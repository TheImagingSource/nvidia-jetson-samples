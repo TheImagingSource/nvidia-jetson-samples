{
 "cells": [
  {
   "cell_type": "markdown",
   "metadata": {},
   "source": [
    "# Using MIPI Sensors with GStreamer\n",
    "\n",
    "## Part 2"
   ]
  },
  {
   "cell_type": "markdown",
   "metadata": {},
   "source": [
    "Import and initialize the GStreamer first."
   ]
  },
  {
   "cell_type": "code",
   "execution_count": null,
   "metadata": {},
   "outputs": [],
   "source": [
    "import gi\n",
    "gi.require_version(\"Gst\", \"1.0\")\n",
    "from gi.repository import Gst\n",
    "\n",
    "Gst.init(())"
   ]
  },
  {
   "cell_type": "markdown",
   "metadata": {},
   "source": [
    "A pipeline can than be created that converts the video format and causes the appsink to use CPU memory this way.\n",
    "\n",
    "The *nvvidconv* element can convert between the different memory types. By just specifying *video/x-raw* (and leaving the *memory:NVMM*-part out), the pipeline converts the buffers to CPU memory:"
   ]
  },
  {
   "cell_type": "code",
   "execution_count": null,
   "metadata": {},
   "outputs": [],
   "source": [
    "pipeline = Gst.parse_launch(\"nvarguscamerasrc ! nvvidconv ! video/x-raw ! appsink name=sink max-buffers=1\")\n",
    "\n",
    "# Start the pipeline, then wait for it to run\n",
    "pipeline.set_state(Gst.State.PLAYING)\n",
    "pipeline.get_state(Gst.CLOCK_TIME_NONE)\n",
    "\n",
    "# Get our sink element to work with\n",
    "sink = pipeline.get_by_name(\"sink\")"
   ]
  },
  {
   "cell_type": "markdown",
   "metadata": {},
   "source": [
    "Now let's see if we get a buffer with the right memory this time!"
   ]
  },
  {
   "cell_type": "code",
   "execution_count": null,
   "metadata": {},
   "outputs": [],
   "source": [
    "sample = sink.emit(\"try-pull-sample\", 1 * Gst.SECOND)\n",
    "print(\"Caps:\", sample.get_caps().to_string())\n",
    "buffer = sample.get_buffer()\n",
    "print(\"Got a buffer of size: %d Bytes\" % (buffer.get_size()))"
   ]
  },
  {
   "cell_type": "markdown",
   "metadata": {},
   "source": [
    "Note that the buffer has the correct size this time. To access the data in the buffer, it needs to be mapped first. When we are done working with the data, we need to unmap it again to avoid a memory leak."
   ]
  },
  {
   "cell_type": "code",
   "execution_count": null,
   "metadata": {},
   "outputs": [],
   "source": [
    "buffer = sample.get_buffer()\n",
    "result, mapinfo = buffer.map(Gst.MapFlags.READ)\n",
    "print (\"Buffer contains %d bytes of data. The 3rd data byte contains the value 0x%x\" % (mapinfo.size, mapinfo.data[3]))\n",
    "buffer.unmap(mapinfo)"
   ]
  },
  {
   "cell_type": "markdown",
   "metadata": {},
   "source": [
    "Note that this still gives us only limited access to the data. Since the buffer is immutable in Python, it could only be mapped as a read-only buffer. We can not write to the buffer directly. \n",
    "\n",
    "Shut down the pipeline to release the camera:"
   ]
  },
  {
   "cell_type": "code",
   "execution_count": null,
   "metadata": {},
   "outputs": [],
   "source": [
    "pipeline.set_state(Gst.State.NULL)"
   ]
  },
  {
   "cell_type": "code",
   "execution_count": null,
   "metadata": {},
   "outputs": [],
   "source": []
  }
 ],
 "metadata": {
  "kernelspec": {
   "display_name": "Python 3",
   "language": "python",
   "name": "python3"
  },
  "language_info": {
   "codemirror_mode": {
    "name": "ipython",
    "version": 3
   },
   "file_extension": ".py",
   "mimetype": "text/x-python",
   "name": "python",
   "nbconvert_exporter": "python",
   "pygments_lexer": "ipython3",
   "version": "3.6.8"
  }
 },
 "nbformat": 4,
 "nbformat_minor": 2
}
